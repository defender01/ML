{
 "cells": [
  {
   "cell_type": "markdown",
   "metadata": {},
   "source": [
    "### callback in model training\n",
    "you might have thought 'wouldn't it be nice if I could stop the training when I reach a desired value?' -- i.e. 95% accuracy might be enough for you, and if you reach that after 3 epochs, why sit around waiting for it to finish a lot more epochs....So how would you fix that? Like any other program...you have callbacks! Let's see them in action..."
   ]
  },
  {
   "cell_type": "code",
   "execution_count": 2,
   "metadata": {},
   "outputs": [
    {
     "name": "stdout",
     "output_type": "stream",
     "text": [
      "2.3.0\n"
     ]
    }
   ],
   "source": [
    "import tensorflow as tf\n",
    "print(tf.__version__)"
   ]
  },
  {
   "cell_type": "markdown",
   "metadata": {},
   "source": [
    "#### Using custom callbacks\n",
    "Resources https://www.tensorflow.org/guide/keras/custom_callback"
   ]
  },
  {
   "cell_type": "code",
   "execution_count": 15,
   "metadata": {},
   "outputs": [
    {
     "name": "stdout",
     "output_type": "stream",
     "text": [
      "Epoch 1/50\n",
      "1871/1875 [============================>.] - ETA: 0s - loss: 0.4736 - accuracy: 0.8317\n",
      " dictonary logs={'loss': 0.4736514985561371, 'accuracy': 0.8316500186920166}\n",
      "1875/1875 [==============================] - 6s 3ms/step - loss: 0.4737 - accuracy: 0.8317\n",
      "Epoch 2/50\n",
      "1865/1875 [============================>.] - ETA: 0s - loss: 0.3598 - accuracy: 0.8678\n",
      " dictonary logs={'loss': 0.35965976119041443, 'accuracy': 0.8679333329200745}\n",
      "\n",
      "Reached 60% accuracy so cancelling training!\n",
      "1875/1875 [==============================] - 7s 4ms/step - loss: 0.3597 - accuracy: 0.8679\n"
     ]
    },
    {
     "data": {
      "text/plain": [
       "<tensorflow.python.keras.callbacks.History at 0x14fa8fd2208>"
      ]
     },
     "execution_count": 15,
     "metadata": {},
     "output_type": "execute_result"
    }
   ],
   "source": [
    "# using inheritance\n",
    "class myCallback(tf.keras.callbacks.Callback):\n",
    "#     overloading on_epoch_end() method\n",
    "  def on_epoch_end(self, epoch, logs={}):\n",
    "    # The logs dict contains the loss value, and all the metrics\n",
    "    # at the end of a batch or epoch. Example includes the loss.\n",
    "    print('\\n dictonary logs={}'.format(logs))\n",
    "    if(logs[\"loss\"]<0.4):\n",
    "      print(\"\\nReached 60% accuracy so cancelling training!\")\n",
    "      self.model.stop_training = True\n",
    "\n",
    "callbacks = myCallback()\n",
    "cb= tf.keras.callbacks.EarlyStopping(monitor='val_loss', min_delta=0.01)\n",
    "mnist = tf.keras.datasets.fashion_mnist\n",
    "(training_images, training_labels), (test_images, test_labels) = mnist.load_data()\n",
    "training_images=training_images/255.0\n",
    "test_images=test_images/255.0\n",
    "model = tf.keras.models.Sequential([\n",
    "  tf.keras.layers.Flatten(),\n",
    "  tf.keras.layers.Dense(512, activation=tf.nn.relu),\n",
    "  tf.keras.layers.Dense(10, activation=tf.nn.softmax)\n",
    "])\n",
    "model.compile(optimizer='adam', loss='sparse_categorical_crossentropy', metrics=['accuracy'])\n",
    "model.fit(training_images, training_labels, epochs=50, callbacks=[callbacks])\n"
   ]
  },
  {
   "cell_type": "code",
   "execution_count": 16,
   "metadata": {},
   "outputs": [
    {
     "name": "stdout",
     "output_type": "stream",
     "text": [
      "313/313 [==============================] - 0s 1ms/step - loss: 0.4060 - accuracy: 0.8496\n",
      "loss= 0.4060060679912567 , accuracy= 0.8496000170707703\n",
      "[1.1676097e-04 3.6603475e-07 1.1722405e-05 3.9067581e-06 2.0594251e-05\n",
      " 8.0285771e-03 4.1659652e-05 1.1261119e-01 3.1166086e-03 8.7604862e-01]\n",
      "9\n"
     ]
    }
   ],
   "source": [
    "results=model.evaluate(test_images, test_labels)\n",
    "print('loss= {} , accuracy= {}'.format(results[0],results[1]))\n",
    "classifications = model.predict(test_images)\n",
    "print(classifications[0])\n",
    "print(test_labels[0])\n"
   ]
  },
  {
   "cell_type": "markdown",
   "metadata": {},
   "source": [
    "#### another way using keras callbacks\n",
    "Resources https://www.tensorflow.org/api_docs/python/tf/keras/callbacks"
   ]
  },
  {
   "cell_type": "code",
   "execution_count": 13,
   "metadata": {},
   "outputs": [
    {
     "name": "stdout",
     "output_type": "stream",
     "text": [
      "Epoch 1/50\n",
      "1875/1875 [==============================] - 11s 6ms/step - loss: 0.4738 - accuracy: 0.8300\n",
      "Epoch 2/50\n",
      "1875/1875 [==============================] - 11s 6ms/step - loss: 0.3575 - accuracy: 0.8692\n",
      "Epoch 3/50\n",
      "1875/1875 [==============================] - 12s 6ms/step - loss: 0.3204 - accuracy: 0.8824\n"
     ]
    },
    {
     "data": {
      "text/plain": [
       "<tensorflow.python.keras.callbacks.History at 0x26219260c88>"
      ]
     },
     "execution_count": 13,
     "metadata": {},
     "output_type": "execute_result"
    }
   ],
   "source": [
    "cb= tf.keras.callbacks.EarlyStopping(monitor='loss', min_delta=0.1)\n",
    "mnist = tf.keras.datasets.fashion_mnist\n",
    "(training_images, training_labels), (test_images, test_labels) = mnist.load_data()\n",
    "training_images=training_images/255.0\n",
    "test_images=test_images/255.0\n",
    "model = tf.keras.models.Sequential([\n",
    "  tf.keras.layers.Flatten(),\n",
    "  tf.keras.layers.Dense(512, activation=tf.nn.relu),\n",
    "  tf.keras.layers.Dense(10, activation=tf.nn.softmax)\n",
    "])\n",
    "model.compile(optimizer='adam', loss='sparse_categorical_crossentropy', metrics=['accuracy'])\n",
    "model.fit(training_images, training_labels, epochs=50, callbacks=[cb])\n"
   ]
  },
  {
   "cell_type": "code",
   "execution_count": 14,
   "metadata": {},
   "outputs": [
    {
     "name": "stdout",
     "output_type": "stream",
     "text": [
      "313/313 [==============================] - 1s 3ms/step - loss: 0.3848 - accuracy: 0.8605\n",
      "loss= 0.3847633898258209 , accuracy= 0.8604999780654907\n",
      "[9.3404367e-08 5.6924965e-10 2.5284379e-08 1.3493923e-09 6.4471045e-08\n",
      " 3.2861900e-04 1.7135096e-06 4.2423732e-03 7.2661686e-07 9.9542636e-01]\n",
      "9\n"
     ]
    }
   ],
   "source": [
    "results=model.evaluate(test_images, test_labels)\n",
    "print('loss= {} , accuracy= {}'.format(results[0],results[1]))\n",
    "classifications = model.predict(test_images)\n",
    "print(classifications[0])\n",
    "print(test_labels[0])\n"
   ]
  },
  {
   "cell_type": "code",
   "execution_count": 12,
   "metadata": {},
   "outputs": [
    {
     "name": "stdout",
     "output_type": "stream",
     "text": [
      "70000\n"
     ]
    }
   ],
   "source": [
    "print(training_images.shape[0]+test_images.shape[0])\n"
   ]
  },
  {
   "cell_type": "code",
   "execution_count": null,
   "metadata": {},
   "outputs": [],
   "source": []
  }
 ],
 "metadata": {
  "kernelspec": {
   "display_name": "Python 3",
   "language": "python",
   "name": "python3"
  },
  "language_info": {
   "codemirror_mode": {
    "name": "ipython",
    "version": 3
   },
   "file_extension": ".py",
   "mimetype": "text/x-python",
   "name": "python",
   "nbconvert_exporter": "python",
   "pygments_lexer": "ipython3",
   "version": "3.7.7"
  }
 },
 "nbformat": 4,
 "nbformat_minor": 4
}
