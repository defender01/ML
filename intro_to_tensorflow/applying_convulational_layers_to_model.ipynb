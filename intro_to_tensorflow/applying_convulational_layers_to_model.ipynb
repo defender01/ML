{
  "nbformat": 4,
  "nbformat_minor": 0,
  "metadata": {
    "colab": {
      "name": "applying convulational layers to model.ipynb",
      "provenance": [],
      "authorship_tag": "ABX9TyP0nOQq8UywGXk7X2E/XMiz",
      "include_colab_link": true
    },
    "kernelspec": {
      "name": "python3",
      "display_name": "Python 3"
    },
    "accelerator": "GPU"
  },
  "cells": [
    {
      "cell_type": "markdown",
      "metadata": {
        "id": "view-in-github",
        "colab_type": "text"
      },
      "source": [
        "<a href=\"https://colab.research.google.com/github/defender01/ML/blob/master/intro_to_tensorflow/applying_convulational_layers_to_model.ipynb\" target=\"_parent\"><img src=\"https://colab.research.google.com/assets/colab-badge.svg\" alt=\"Open In Colab\"/></a>"
      ]
    },
    {
      "cell_type": "markdown",
      "metadata": {
        "id": "I_38dos2stPo",
        "colab_type": "text"
      },
      "source": [
        "# Applying Conv and pooling layer\n",
        "Remember 5x5 filters can capture more complex pattern then 3x3 filters. The bigger the filter size is the more complex pattern it can capture."
      ]
    },
    {
      "cell_type": "code",
      "metadata": {
        "id": "WWtMFULnw49d",
        "colab_type": "code",
        "colab": {
          "base_uri": "https://localhost:8080/",
          "height": 33
        },
        "outputId": "0b4ca75c-c0ec-4cda-99f6-92f8986bbbb2"
      },
      "source": [
        "import tensorflow as tf\n",
        "print(tf.__version__)\n",
        "import numpy as np"
      ],
      "execution_count": 2,
      "outputs": [
        {
          "output_type": "stream",
          "text": [
            "2.3.0\n"
          ],
          "name": "stdout"
        }
      ]
    },
    {
      "cell_type": "code",
      "metadata": {
        "id": "P09FqYHWsmIG",
        "colab_type": "code",
        "colab": {
          "base_uri": "https://localhost:8080/",
          "height": 719
        },
        "outputId": "192188d0-29d5-487a-e4bb-144e4d912273"
      },
      "source": [
        "\n",
        "mnist = tf.keras.datasets.fashion_mnist\n",
        "(training_images, training_labels), (test_images, test_labels) = mnist.load_data()\n",
        "training_images=training_images.reshape(60000, 28, 28, 1)\n",
        "training_images=training_images / 255.0\n",
        "test_images = test_images.reshape(10000, 28, 28, 1)\n",
        "test_images=test_images/255.0\n",
        "model = tf.keras.models.Sequential([\n",
        "  tf.keras.layers.Conv2D(64, (3,3), activation='relu', input_shape=(28, 28, 1)),\n",
        "  tf.keras.layers.MaxPooling2D(2, 2),\n",
        "  tf.keras.layers.Conv2D(64, (3,3), activation='relu'),\n",
        "  tf.keras.layers.MaxPooling2D(2,2),\n",
        "  tf.keras.layers.Flatten(),\n",
        "  tf.keras.layers.Dense(128, activation='relu'),\n",
        "  tf.keras.layers.Dense(10, activation='softmax')\n",
        "])\n",
        "model.compile(optimizer='adam', loss='sparse_categorical_crossentropy', metrics=['accuracy'])\n",
        "model.summary()\n",
        "model.fit(training_images, training_labels, epochs=5)\n"
      ],
      "execution_count": null,
      "outputs": [
        {
          "output_type": "stream",
          "text": [
            "2.3.0\n",
            "Downloading data from https://storage.googleapis.com/tensorflow/tf-keras-datasets/train-labels-idx1-ubyte.gz\n",
            "32768/29515 [=================================] - 0s 0us/step\n",
            "Downloading data from https://storage.googleapis.com/tensorflow/tf-keras-datasets/train-images-idx3-ubyte.gz\n",
            "26427392/26421880 [==============================] - 1s 0us/step\n",
            "Downloading data from https://storage.googleapis.com/tensorflow/tf-keras-datasets/t10k-labels-idx1-ubyte.gz\n",
            "8192/5148 [===============================================] - 0s 0us/step\n",
            "Downloading data from https://storage.googleapis.com/tensorflow/tf-keras-datasets/t10k-images-idx3-ubyte.gz\n",
            "4423680/4422102 [==============================] - 0s 0us/step\n",
            "Model: \"sequential\"\n",
            "_________________________________________________________________\n",
            "Layer (type)                 Output Shape              Param #   \n",
            "=================================================================\n",
            "conv2d (Conv2D)              (None, 26, 26, 64)        640       \n",
            "_________________________________________________________________\n",
            "max_pooling2d (MaxPooling2D) (None, 13, 13, 64)        0         \n",
            "_________________________________________________________________\n",
            "conv2d_1 (Conv2D)            (None, 11, 11, 64)        36928     \n",
            "_________________________________________________________________\n",
            "max_pooling2d_1 (MaxPooling2 (None, 5, 5, 64)          0         \n",
            "_________________________________________________________________\n",
            "flatten (Flatten)            (None, 1600)              0         \n",
            "_________________________________________________________________\n",
            "dense (Dense)                (None, 128)               204928    \n",
            "_________________________________________________________________\n",
            "dense_1 (Dense)              (None, 10)                1290      \n",
            "=================================================================\n",
            "Total params: 243,786\n",
            "Trainable params: 243,786\n",
            "Non-trainable params: 0\n",
            "_________________________________________________________________\n",
            "Epoch 1/5\n",
            "1875/1875 [==============================] - 4s 2ms/step - loss: 0.4409 - accuracy: 0.8392\n",
            "Epoch 2/5\n",
            "1875/1875 [==============================] - 4s 2ms/step - loss: 0.2932 - accuracy: 0.8923\n",
            "Epoch 3/5\n",
            "1875/1875 [==============================] - 4s 2ms/step - loss: 0.2461 - accuracy: 0.9093\n",
            "Epoch 4/5\n",
            "1875/1875 [==============================] - 4s 2ms/step - loss: 0.2134 - accuracy: 0.9200\n",
            "Epoch 5/5\n",
            "1875/1875 [==============================] - 5s 2ms/step - loss: 0.1880 - accuracy: 0.9298\n",
            "313/313 [==============================] - 1s 2ms/step - loss: 0.2493 - accuracy: 0.9131\n"
          ],
          "name": "stdout"
        }
      ]
    },
    {
      "cell_type": "markdown",
      "metadata": {
        "id": "XY71ocxhxED9",
        "colab_type": "text"
      },
      "source": [
        "**Comparing test set**"
      ]
    },
    {
      "cell_type": "code",
      "metadata": {
        "id": "E6uWlr_9vwGs",
        "colab_type": "code",
        "colab": {
          "base_uri": "https://localhost:8080/",
          "height": 117
        },
        "outputId": "af2a7a90-7f82-4fa3-84d1-1bcd667fd857"
      },
      "source": [
        "loss, acc = model.evaluate(test_images, test_labels)\n",
        "print('loss= {} , accuracy= {}'.format(loss, acc))\n",
        "classifications= model.predict(test_images)\n",
        "ind =0\n",
        "print(classifications[ind])\n",
        "print('predicted label of {}th element = {}'.format(ind, np.argmax(classifications[ind])))\n",
        "print('original label of {}th element = {}'.format(ind, test_labels[ind]))\n"
      ],
      "execution_count": null,
      "outputs": [
        {
          "output_type": "stream",
          "text": [
            "313/313 [==============================] - 1s 2ms/step - loss: 0.2493 - accuracy: 0.9131\n",
            "loss= 0.2493015080690384 , accuracy= 0.913100004196167\n",
            "[2.4320670e-06 7.1708257e-07 4.7749163e-06 2.2964985e-06 1.1985578e-06\n",
            " 3.1290457e-04 1.0716225e-08 1.0682936e-03 3.3590078e-07 9.9860698e-01]\n",
            "predicted label of 0th element = 9\n",
            "original label of 0th element = 9\n"
          ],
          "name": "stdout"
        }
      ]
    },
    {
      "cell_type": "markdown",
      "metadata": {
        "id": "8H3qmYywxP02",
        "colab_type": "text"
      },
      "source": [
        "# Trying other combinations"
      ]
    },
    {
      "cell_type": "code",
      "metadata": {
        "id": "AbXq_XQv5lSg",
        "colab_type": "code",
        "colab": {}
      },
      "source": [
        "class myCallback(tf.keras.callbacks.Callback):\n",
        "#     overloading on_epoch_end() method\n",
        "  def on_epoch_end(self, epoch, logs):\n",
        "    # The logs dict contains the loss value, and all the metrics\n",
        "    # at the end of a batch or epoch. Example includes the loss.\n",
        "    print('\\n dictonary logs={}'.format(logs))\n",
        "    if(logs[\"accuracy\"]>.9):\n",
        "      print(\"\\nReached 90% accuracy so cancelling training!\")\n",
        "      self.model.stop_training = True\n",
        "cb= myCallback()"
      ],
      "execution_count": 9,
      "outputs": []
    },
    {
      "cell_type": "code",
      "metadata": {
        "id": "lIfnIG2StTIO",
        "colab_type": "code",
        "colab": {
          "base_uri": "https://localhost:8080/",
          "height": 702
        },
        "outputId": "df5ff4ba-26c7-4ac5-bd18-6096a681d882"
      },
      "source": [
        "mnist = tf.keras.datasets.fashion_mnist\n",
        "(training_images, training_labels), (test_images, test_labels) = mnist.load_data()\n",
        "training_images=training_images.reshape(60000, 28, 28, 1)\n",
        "training_images=training_images / 255.0\n",
        "test_images = test_images.reshape(10000, 28, 28, 1)\n",
        "test_images=test_images/255.0\n",
        "model = tf.keras.models.Sequential([\n",
        "  tf.keras.layers.Conv2D(32, (3,3), activation='relu', input_shape=(28, 28, 1)),\n",
        "  tf.keras.layers.MaxPooling2D(2, 2),\n",
        "  tf.keras.layers.Conv2D(16, (3,3), activation='relu'),\n",
        "  tf.keras.layers.MaxPooling2D(2,2),\n",
        "  tf.keras.layers.Flatten(),\n",
        "  tf.keras.layers.Dense(128, activation='relu'),\n",
        "  tf.keras.layers.Dense(10, activation='softmax')\n",
        "])\n",
        "model.compile(optimizer='adam', loss='sparse_categorical_crossentropy', metrics=['accuracy'])\n",
        "model.summary()\n",
        "model.fit(training_images, training_labels, epochs=20, callbacks=[cb])\n",
        "test_loss = model.evaluate(test_images, test_labels)\n"
      ],
      "execution_count": 12,
      "outputs": [
        {
          "output_type": "stream",
          "text": [
            "Model: \"sequential_4\"\n",
            "_________________________________________________________________\n",
            "Layer (type)                 Output Shape              Param #   \n",
            "=================================================================\n",
            "conv2d_8 (Conv2D)            (None, 26, 26, 32)        320       \n",
            "_________________________________________________________________\n",
            "max_pooling2d_8 (MaxPooling2 (None, 13, 13, 32)        0         \n",
            "_________________________________________________________________\n",
            "conv2d_9 (Conv2D)            (None, 11, 11, 16)        4624      \n",
            "_________________________________________________________________\n",
            "max_pooling2d_9 (MaxPooling2 (None, 5, 5, 16)          0         \n",
            "_________________________________________________________________\n",
            "flatten_4 (Flatten)          (None, 400)               0         \n",
            "_________________________________________________________________\n",
            "dense_8 (Dense)              (None, 128)               51328     \n",
            "_________________________________________________________________\n",
            "dense_9 (Dense)              (None, 10)                1290      \n",
            "=================================================================\n",
            "Total params: 57,562\n",
            "Trainable params: 57,562\n",
            "Non-trainable params: 0\n",
            "_________________________________________________________________\n",
            "Epoch 1/20\n",
            "1874/1875 [============================>.] - ETA: 0s - loss: 0.5156 - accuracy: 0.8107\n",
            " dictonary logs={'loss': 0.5153272151947021, 'accuracy': 0.8108500242233276}\n",
            "1875/1875 [==============================] - 8s 4ms/step - loss: 0.5153 - accuracy: 0.8109\n",
            "Epoch 2/20\n",
            "1874/1875 [============================>.] - ETA: 0s - loss: 0.3428 - accuracy: 0.8753\n",
            " dictonary logs={'loss': 0.34269216656684875, 'accuracy': 0.8752999901771545}\n",
            "1875/1875 [==============================] - 8s 4ms/step - loss: 0.3427 - accuracy: 0.8753\n",
            "Epoch 3/20\n",
            "1868/1875 [============================>.] - ETA: 0s - loss: 0.2966 - accuracy: 0.8910\n",
            " dictonary logs={'loss': 0.29656869173049927, 'accuracy': 0.8909333348274231}\n",
            "1875/1875 [==============================] - 8s 4ms/step - loss: 0.2966 - accuracy: 0.8909\n",
            "Epoch 4/20\n",
            "1865/1875 [============================>.] - ETA: 0s - loss: 0.2669 - accuracy: 0.9009\n",
            " dictonary logs={'loss': 0.2666137218475342, 'accuracy': 0.9009666442871094}\n",
            "\n",
            "Reached 90% accuracy so cancelling training!\n",
            "1875/1875 [==============================] - 8s 4ms/step - loss: 0.2666 - accuracy: 0.9010\n",
            "313/313 [==============================] - 1s 3ms/step - loss: 0.2903 - accuracy: 0.8930\n"
          ],
          "name": "stdout"
        }
      ]
    },
    {
      "cell_type": "markdown",
      "metadata": {
        "id": "acBW-tVHxeIm",
        "colab_type": "text"
      },
      "source": [
        "**Comparing test set**"
      ]
    },
    {
      "cell_type": "code",
      "metadata": {
        "id": "uKLXrrhGxCNR",
        "colab_type": "code",
        "colab": {
          "base_uri": "https://localhost:8080/",
          "height": 117
        },
        "outputId": "bdf0ea03-a2e6-4011-db1f-52a4ba4be9ec"
      },
      "source": [
        "loss, acc = model.evaluate(test_images, test_labels)\n",
        "print('loss= {} , accuracy= {}'.format(loss, acc))\n",
        "classifications= model.predict(test_images)\n",
        "ind =0\n",
        "print(classifications[ind])\n",
        "print('predicted label of {}th element = {}'.format(ind, np.argmax(classifications[ind])))\n",
        "print('original label of {}th element = {}'.format(ind, test_labels[ind]))\n"
      ],
      "execution_count": 13,
      "outputs": [
        {
          "output_type": "stream",
          "text": [
            "313/313 [==============================] - 1s 3ms/step - loss: 0.2903 - accuracy: 0.8930\n",
            "loss= 0.2903372049331665 , accuracy= 0.8930000066757202\n",
            "[9.1305117e-07 4.7239541e-07 1.0259951e-07 2.9923794e-07 1.3323330e-07\n",
            " 2.0096891e-04 7.0072552e-08 6.5455707e-03 6.0261382e-06 9.9324542e-01]\n",
            "predicted label of 0th element = 9\n",
            "original label of 0th element = 9\n"
          ],
          "name": "stdout"
        }
      ]
    },
    {
      "cell_type": "code",
      "metadata": {
        "id": "fZF9_uKBxaQu",
        "colab_type": "code",
        "colab": {}
      },
      "source": [
        ""
      ],
      "execution_count": null,
      "outputs": []
    }
  ]
}